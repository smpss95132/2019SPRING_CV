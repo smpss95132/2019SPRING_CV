{
 "cells": [
  {
   "cell_type": "code",
   "execution_count": 125,
   "metadata": {},
   "outputs": [],
   "source": [
    "import numpy as np\n",
    "import cv2\n",
    "import matplotlib.pyplot as plt\n",
    "import collections"
   ]
  },
  {
   "cell_type": "code",
   "execution_count": 126,
   "metadata": {},
   "outputs": [],
   "source": [
    "# read picture as GRAYSCALE\n",
    "img=cv2.imread('lena.bmp', cv2.IMREAD_GRAYSCALE)"
   ]
  },
  {
   "cell_type": "code",
   "execution_count": 127,
   "metadata": {},
   "outputs": [],
   "source": [
    "# binary image\n",
    "def binarize(image):\n",
    "    answer=np.zeros(image.shape,dtype='int')\n",
    "    for i in range(image.shape[0]):\n",
    "        for j in range(image.shape[1]):\n",
    "            if image[i][j]>127:\n",
    "                answer[i][j]=1\n",
    "            else:\n",
    "                answer[i][j]=0\n",
    "    return answer"
   ]
  },
  {
   "cell_type": "code",
   "execution_count": 128,
   "metadata": {},
   "outputs": [],
   "source": [
    "# invert binary image (1<->0)\n",
    "def binary_image_invert(image):\n",
    "    temp=np.zeros(image.shape,dtype='int')\n",
    "    for i in range(image.shape[0]):\n",
    "        for j in range(image.shape[1]):\n",
    "            if image[i][j]==0:\n",
    "                temp[i][j]=1\n",
    "                \n",
    "    return temp"
   ]
  },
  {
   "cell_type": "code",
   "execution_count": 129,
   "metadata": {},
   "outputs": [],
   "source": [
    "# negative=>abs ,positive=>0\n",
    "def operator(top_diff,buttom_diff,left_diff,right_diff,shape):\n",
    "    return_list=[]\n",
    "    \n",
    "    if top_diff<0:\n",
    "        return_list.append(abs(top_diff))\n",
    "    else:\n",
    "        return_list.append(0)\n",
    "        \n",
    "    if buttom_diff>shape[0]-1:\n",
    "        return_list.append(buttom_diff-shape[0]+1)\n",
    "    else:\n",
    "        return_list.append(0)\n",
    "    \n",
    "    if left_diff<0:\n",
    "        return_list.append(abs(left_diff))\n",
    "    else:\n",
    "        return_list.append(0)\n",
    "        \n",
    "    if right_diff>shape[1]-1:\n",
    "        return_list.append(right_diff-shape[1]+1)\n",
    "    else:\n",
    "        return_list.append(0)\n",
    "        \n",
    "    return return_list\n",
    "        "
   ]
  },
  {
   "cell_type": "code",
   "execution_count": 130,
   "metadata": {},
   "outputs": [],
   "source": [
    "# dilation_binary\n",
    "def dilation_binary(image,kernel,kernel_center):\n",
    "    \n",
    "    binary_image=binarize(image)\n",
    "    # get the 0s' position\n",
    "    binary_TF=(binary_image==0)\n",
    "    \n",
    "    unique, counts = np.unique(binary_image, return_counts=True)\n",
    "    print(dict(zip(unique, counts)))\n",
    "    cv2.imwrite('dilation_before.bmp',binary_image)\n",
    "\n",
    "    return_image=np.zeros(binary_image.shape)\n",
    "    \n",
    "    top_border=-1*kernel_center[0]\n",
    "    buttom_border=kernel.shape[0]-1-kernel_center[0]\n",
    "    left_border=-1*kernel_center[1]\n",
    "    right_border=kernel.shape[1]-1-kernel_center[1]\n",
    "    \n",
    "    #print(\"border\",top_border,buttom_border,left_border,right_border)\n",
    "    \n",
    "    #print(\"start\\n\",binary_image)\n",
    "\n",
    "    for i in range(binary_image.shape[0]):\n",
    "        for j in range(binary_image.shape[1]):\n",
    "            if binary_TF[i][j]:\n",
    "         \n",
    "                top_diff=i+top_border\n",
    "                buttom_diff=i+buttom_border\n",
    "                left_diff=j+left_border\n",
    "                right_diff=j+right_border\n",
    "                \n",
    "                top_diff,buttom_diff,left_diff,right_diff=operator(top_diff,buttom_diff,left_diff,right_diff,binary_image.shape)\n",
    "            \n",
    "                binary_image[i+top_border+top_diff:i+buttom_border-buttom_diff+1,j+left_border+left_diff:j+right_border-right_diff+1]=binary_image[i+top_border+top_diff:i+buttom_border-buttom_diff+1,j+left_border+left_diff:j+right_border-right_diff+1]-kernel[top_diff:kernel.shape[0]-buttom_diff,left_diff:kernel.shape[1]-right_diff]\n",
    "                \n",
    "    \n",
    "    for i in range(binary_image.shape[0]):\n",
    "        for j in range(binary_image.shape[1]):\n",
    "            if binary_image[i][j]>0:\n",
    "                return_image[i][j]=1\n",
    "                \n",
    "    final=np.zeros(return_image.shape,dtype='int')\n",
    "    for i in range(return_image.shape[0]):\n",
    "        for j in range(return_image.shape[1]):\n",
    "            if return_image[i][j]==1:\n",
    "                final[i][j]=255\n",
    "        \n",
    "    cv2.imwrite('dilation.bmp',final)\n",
    "    \n",
    "    unique, counts = np.unique(return_image, return_counts=True)\n",
    "    print(dict(zip(unique, counts)))\n",
    "\n",
    "            \n",
    "    return final"
   ]
  },
  {
   "cell_type": "code",
   "execution_count": 131,
   "metadata": {},
   "outputs": [],
   "source": [
    "# erosion_binary\n",
    "def erosion_binary(image,kernel,kernel_center):\n",
    "    binary_image=binarize(image)\n",
    "    inverted_image=binary_image_invert(binary_image)\n",
    "    # 0 if not erotion\n",
    "    return_image=np.ones(binary_image.shape)\n",
    "    \n",
    "    unique, counts = np.unique(binary_image, return_counts=True)\n",
    "    print(dict(zip(unique, counts)))\n",
    "    \n",
    "    \n",
    "    top_border=-1*kernel_center[0]\n",
    "    buttom_border=kernel.shape[0]-1-kernel_center[0]\n",
    "    left_border=-1*kernel_center[1]\n",
    "    right_border=kernel.shape[1]-1-kernel_center[1]\n",
    "    \n",
    "    \n",
    "    for i in range(inverted_image.shape[0]):\n",
    "        for j in range(inverted_image.shape[1]):\n",
    "            top_diff=i+top_border\n",
    "            buttom_diff=i+buttom_border\n",
    "            left_diff=j+left_border\n",
    "            right_diff=j+right_border\n",
    "                \n",
    "            top_diff,buttom_diff,left_diff,right_diff=operator(top_diff,buttom_diff,left_diff,right_diff,inverted_image.shape)\n",
    "            if top_diff>0 or buttom_diff>0 or left_diff>0 or right_diff>0:\n",
    "                continue\n",
    "            \n",
    "            check_matrix=inverted_image[i+top_border:i+buttom_border+1,j+left_border:j+right_border+1]>=kernel[0:kernel.shape[0],0:kernel.shape[1]]\n",
    "                \n",
    "            if not(False in check_matrix):\n",
    "                return_image[i][j]=0\n",
    "                \n",
    "    final=np.zeros(return_image.shape,dtype='int')\n",
    "    for i in range(return_image.shape[0]):\n",
    "        for j in range(return_image.shape[1]):\n",
    "            if return_image[i][j]==1:\n",
    "                final[i][j]=255\n",
    "\n",
    "    cv2.imwrite('erosion.bmp',final)\n",
    "    \n",
    "    unique, counts = np.unique(final, return_counts=True)\n",
    "    print(dict(zip(unique, counts)))\n",
    "    \n",
    "    return final\n",
    "    "
   ]
  },
  {
   "cell_type": "code",
   "execution_count": 134,
   "metadata": {},
   "outputs": [
    {
     "name": "stdout",
     "output_type": "stream",
     "text": [
      "{0: 128184, 1: 133960}\n",
      "{0.0: 156071, 1.0: 106073}\n"
     ]
    }
   ],
   "source": [
    "kernel=np.array([[0,1,1,1,0],[1,1,1,1,1],[1,1,1,1,1],[1,1,1,1,1],[0,1,1,1,0]])\n",
    "#print(kernel)\n",
    "try_image=np.array([[0,0,0,255,0],[255,0,255,255,255],[255,255,255,255,255],[0,255,0,255,0],[0,255,0,255,0]])\n",
    "#print(try_image)\n",
    "try_kernel=np.array([[1],[1]]).reshape(2,1)\n",
    "#print(try_kernel)\n",
    "\n",
    "dilation_result=dilation_binary(img,kernel,[2,2])\n",
    "\n",
    "\n",
    "\n",
    "\n"
   ]
  },
  {
   "cell_type": "code",
   "execution_count": null,
   "metadata": {},
   "outputs": [],
   "source": [
    "#opining_result=dilation_binary(erosion_binary(img,kernel,[2,2]),kernel,[2,2])\n",
    "#cv2.imwrite('opining.bmp',opining_result)\n",
    "#closing_result=erosion_binary(dilation_binary(img,kernel,[2,2]),kernel,[2,2])\n",
    "#cv2.imwrite('closing.bmp',closing_result)"
   ]
  },
  {
   "cell_type": "code",
   "execution_count": null,
   "metadata": {},
   "outputs": [],
   "source": [
    "A=np.array([[1,2,3],[4,5,6],[7,8,9]])\n",
    "print(A)\n",
    "B=np.array([[50,50,50],[50,50,50],[50,50,50]])\n",
    "print(B)\n",
    "\n",
    "C=A<B\n",
    "\n",
    "print(C)\n",
    "\n",
    "if not(True in C):\n",
    "    print(\"in\")"
   ]
  }
 ],
 "metadata": {
  "kernelspec": {
   "display_name": "Python 3",
   "language": "python",
   "name": "python3"
  },
  "language_info": {
   "codemirror_mode": {
    "name": "ipython",
    "version": 3
   },
   "file_extension": ".py",
   "mimetype": "text/x-python",
   "name": "python",
   "nbconvert_exporter": "python",
   "pygments_lexer": "ipython3",
   "version": "3.7.3"
  }
 },
 "nbformat": 4,
 "nbformat_minor": 2
}
