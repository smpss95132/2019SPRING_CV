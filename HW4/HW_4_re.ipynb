{
 "cells": [
  {
   "cell_type": "code",
   "execution_count": 1,
   "metadata": {},
   "outputs": [],
   "source": [
    "import numpy as np\n",
    "import cv2\n",
    "import matplotlib.pyplot as plt\n",
    "import collections"
   ]
  },
  {
   "cell_type": "code",
   "execution_count": 2,
   "metadata": {},
   "outputs": [],
   "source": [
    "# read picture as GRAYSCALE\n",
    "img=cv2.imread('lena.bmp', cv2.IMREAD_GRAYSCALE)"
   ]
  },
  {
   "cell_type": "code",
   "execution_count": 3,
   "metadata": {},
   "outputs": [],
   "source": [
    "# binary image(white=>0 ; black=>1)\n",
    "def binarize(image):\n",
    "    answer=np.zeros(image.shape,dtype='int')\n",
    "    for i in range(image.shape[0]):\n",
    "        for j in range(image.shape[1]):\n",
    "            if image[i][j]>127:\n",
    "                answer[i][j]=0\n",
    "            else:\n",
    "                answer[i][j]=1\n",
    "    return answer"
   ]
  },
  {
   "cell_type": "code",
   "execution_count": 4,
   "metadata": {},
   "outputs": [],
   "source": [
    "# invert binary image (1<->0)\n",
    "def binary_image_invert(image):\n",
    "    temp=np.zeros(image.shape,dtype='int')\n",
    "    for i in range(image.shape[0]):\n",
    "        for j in range(image.shape[1]):\n",
    "            if image[i][j]==0:\n",
    "                temp[i][j]=1\n",
    "                \n",
    "    return temp"
   ]
  },
  {
   "cell_type": "code",
   "execution_count": 5,
   "metadata": {},
   "outputs": [],
   "source": [
    "# negative=>abs ,positive=>0\n",
    "def operator(top_diff,buttom_diff,left_diff,right_diff,shape):\n",
    "    return_list=[]\n",
    "    \n",
    "    if top_diff<0:\n",
    "        return_list.append(abs(top_diff))\n",
    "    else:\n",
    "        return_list.append(0)\n",
    "        \n",
    "    if buttom_diff>shape[0]-1:\n",
    "        return_list.append(buttom_diff-shape[0]+1)\n",
    "    else:\n",
    "        return_list.append(0)\n",
    "    \n",
    "    if left_diff<0:\n",
    "        return_list.append(abs(left_diff))\n",
    "    else:\n",
    "        return_list.append(0)\n",
    "        \n",
    "    if right_diff>shape[1]-1:\n",
    "        return_list.append(right_diff-shape[1]+1)\n",
    "    else:\n",
    "        return_list.append(0)\n",
    "        \n",
    "    return return_list\n",
    "        "
   ]
  },
  {
   "cell_type": "code",
   "execution_count": 6,
   "metadata": {},
   "outputs": [],
   "source": [
    "# dilation_binary(0 is the target)\n",
    "def dilation_binary(bin_image,kernel,kernel_center):\n",
    "    \n",
    "    binary_image=np.zeros(bin_image.shape)\n",
    "    binary_image[0:bin_image.shape[0],0:bin_image.shape[1]]=bin_image[0:bin_image.shape[0],0:bin_image.shape[1]]\n",
    "    \n",
    "    # get the 0s' position\n",
    "    binary_TF=(binary_image==0)\n",
    "    \n",
    "    #unique, counts = np.unique(binary_image, return_counts=True)\n",
    "    #print(dict(zip(unique, counts)))\n",
    "    #cv2.imwrite('dilation_before.bmp',binary_image)\n",
    "\n",
    "    return_image=np.zeros(binary_image.shape)\n",
    "    \n",
    "    top_border=-1*kernel_center[0]\n",
    "    buttom_border=kernel.shape[0]-1-kernel_center[0]\n",
    "    left_border=-1*kernel_center[1]\n",
    "    right_border=kernel.shape[1]-1-kernel_center[1]\n",
    "    \n",
    "    #print(\"border\",top_border,buttom_border,left_border,right_border)\n",
    "    \n",
    "    #print(\"start\\n\",binary_image)\n",
    "\n",
    "    for i in range(binary_image.shape[0]):\n",
    "        for j in range(binary_image.shape[1]):\n",
    "            if binary_TF[i][j]:\n",
    "         \n",
    "                top_diff=i+top_border\n",
    "                buttom_diff=i+buttom_border\n",
    "                left_diff=j+left_border\n",
    "                right_diff=j+right_border\n",
    "                \n",
    "                top_diff,buttom_diff,left_diff,right_diff=operator(top_diff,buttom_diff,left_diff,right_diff,binary_image.shape)\n",
    "            \n",
    "                binary_image[i+top_border+top_diff:i+buttom_border-buttom_diff+1,j+left_border+left_diff:j+right_border-right_diff+1]=binary_image[i+top_border+top_diff:i+buttom_border-buttom_diff+1,j+left_border+left_diff:j+right_border-right_diff+1]-kernel[top_diff:kernel.shape[0]-buttom_diff,left_diff:kernel.shape[1]-right_diff]\n",
    "                \n",
    "    \n",
    "    for i in range(binary_image.shape[0]):\n",
    "        for j in range(binary_image.shape[1]):\n",
    "            if binary_image[i][j]>0:\n",
    "                return_image[i][j]=1\n",
    "                \n",
    "    final=np.zeros(return_image.shape,dtype='int')\n",
    "    for i in range(return_image.shape[0]):\n",
    "        for j in range(return_image.shape[1]):\n",
    "            if return_image[i][j]==0:\n",
    "                final[i][j]=255\n",
    "        \n",
    "    #cv2.imwrite('dilation.bmp',final)\n",
    "    \n",
    "    #unique, counts = np.unique(return_image, return_counts=True)\n",
    "    #print(dict(zip(unique, counts)))\n",
    "\n",
    "            \n",
    "    return final"
   ]
  },
  {
   "cell_type": "code",
   "execution_count": 7,
   "metadata": {},
   "outputs": [],
   "source": [
    "# erosion_binary\n",
    "def erosion_binary(bin_image,kernel,kernel_center):\n",
    "    \n",
    "    binary_image=np.zeros(bin_image.shape)\n",
    "    binary_image[0:bin_image.shape[0],0:bin_image.shape[1]]=bin_image[0:bin_image.shape[0],0:bin_image.shape[1]]\n",
    "\n",
    "    inverted_image=binary_image_invert(binary_image)\n",
    "    # 0 if not erotion\n",
    "    return_image=np.ones(binary_image.shape)\n",
    "    \n",
    "    #unique, counts = np.unique(binary_image, return_counts=True)\n",
    "    #print(dict(zip(unique, counts)))\n",
    "    \n",
    "    \n",
    "    top_border=-1*kernel_center[0]\n",
    "    buttom_border=kernel.shape[0]-1-kernel_center[0]\n",
    "    left_border=-1*kernel_center[1]\n",
    "    right_border=kernel.shape[1]-1-kernel_center[1]\n",
    "    \n",
    "    \n",
    "    for i in range(inverted_image.shape[0]):\n",
    "        for j in range(inverted_image.shape[1]):\n",
    "            top_diff=i+top_border\n",
    "            buttom_diff=i+buttom_border\n",
    "            left_diff=j+left_border\n",
    "            right_diff=j+right_border\n",
    "                \n",
    "            top_diff,buttom_diff,left_diff,right_diff=operator(top_diff,buttom_diff,left_diff,right_diff,inverted_image.shape)\n",
    "            if top_diff>0 or buttom_diff>0 or left_diff>0 or right_diff>0:\n",
    "                continue\n",
    "            \n",
    "            check_matrix=inverted_image[i+top_border:i+buttom_border+1,j+left_border:j+right_border+1]>=kernel[0:kernel.shape[0],0:kernel.shape[1]]\n",
    "                \n",
    "            if not(False in check_matrix):\n",
    "                return_image[i][j]=0\n",
    "                \n",
    "    final=np.zeros(return_image.shape,dtype='int')\n",
    "    for i in range(return_image.shape[0]):\n",
    "        for j in range(return_image.shape[1]):\n",
    "            if return_image[i][j]==0:\n",
    "                final[i][j]=255\n",
    "\n",
    "    #cv2.imwrite('erosion.bmp',final)\n",
    "    \n",
    "    #unique, counts = np.unique(final, return_counts=True)\n",
    "    #print(dict(zip(unique, counts)))\n",
    "    \n",
    "    return final\n",
    "    "
   ]
  },
  {
   "cell_type": "code",
   "execution_count": 8,
   "metadata": {},
   "outputs": [],
   "source": [
    "def hit_and_miss(bin_image):\n",
    "    \n",
    "    binary_image=np.zeros(bin_image.shape)\n",
    "    binary_image[0:bin_image.shape[0],0:bin_image.shape[1]]=bin_image[0:bin_image.shape[0],0:bin_image.shape[1]]\n",
    "    \n",
    "    kernel=np.array([[1,1],[0,1]],dtype='int')\n",
    "    kernel_J_center=[0,1]\n",
    "    kernel_K_center=[1,0]\n",
    "    \n",
    "    binary_image_complement=binary_image_invert(binary_image)\n",
    "    \n",
    "    A_erosion_J=erosion_binary(binary_image,kernel,kernel_J_center)\n",
    "    AComplement_erosion_K=erosion_binary(binary_image_complement,kernel,kernel_K_center)\n",
    "    \n",
    "    final_image=np.zeros(binary_image.shape,dtype='int')\n",
    "    for i in range(binary_image.shape[0]):\n",
    "        for j in range(binary_image.shape[1]):\n",
    "            if A_erosion_J[i][j]==255 and AComplement_erosion_K[i][j]==255:\n",
    "                final_image[i][j]=255\n",
    "    \n",
    "    return final_image\n",
    "\n",
    "    "
   ]
  },
  {
   "cell_type": "code",
   "execution_count": 9,
   "metadata": {},
   "outputs": [
    {
     "name": "stdout",
     "output_type": "stream",
     "text": [
      "dilationing...\n",
      "erosioning...\n",
      "opining...\n",
      "closing...\n",
      "hit_and_missing...\n"
     ]
    }
   ],
   "source": [
    "kernel=np.array([[0,1,1,1,0],[1,1,1,1,1],[1,1,1,1,1],[1,1,1,1,1],[0,1,1,1,0]])\n",
    "#print(kernel)\n",
    "try_image=np.array([[0,0,0,255,0],[255,0,255,255,255],[255,255,255,255,255],[0,255,0,255,0],[0,255,0,255,0]])\n",
    "#print(try_image)\n",
    "try_kernel=np.array([[1],[1]]).reshape(2,1)\n",
    "#print(try_kernel)\n",
    "\n",
    "binary_image=binarize(img)\n",
    "\n",
    "print(\"dilationing...\")\n",
    "dilation_result=dilation_binary(binary_image,kernel,[2,2])\n",
    "print(\"erosioning...\")\n",
    "erosion_result=erosion_binary(binary_image,kernel,[2,2])\n",
    "print(\"opining...\")\n",
    "opining_result=dilation_binary(binarize(erosion_binary(binary_image,kernel,[2,2])),kernel,[2,2])\n",
    "print(\"closing...\")\n",
    "closing_result=erosion_binary(binarize(dilation_binary(binary_image,kernel,[2,2])),kernel,[2,2])\n",
    "print(\"hit_and_missing...\")\n",
    "hit_and_miss_result=hit_and_miss(binary_image)\n",
    "\n"
   ]
  },
  {
   "cell_type": "code",
   "execution_count": 10,
   "metadata": {},
   "outputs": [
    {
     "data": {
      "text/plain": [
       "True"
      ]
     },
     "execution_count": 10,
     "metadata": {},
     "output_type": "execute_result"
    }
   ],
   "source": [
    "cv2.imwrite('dilation_new.bmp',dilation_result)\n",
    "cv2.imwrite('erosion_new.bmp',erosion_result)\n",
    "cv2.imwrite('opining_new.bmp',opining_result)\n",
    "cv2.imwrite('closing_new.bmp',closing_result)\n",
    "cv2.imwrite('hit_and_miss_new.bmp',hit_and_miss_result)"
   ]
  }
 ],
 "metadata": {
  "kernelspec": {
   "display_name": "Python 3",
   "language": "python",
   "name": "python3"
  },
  "language_info": {
   "codemirror_mode": {
    "name": "ipython",
    "version": 3
   },
   "file_extension": ".py",
   "mimetype": "text/x-python",
   "name": "python",
   "nbconvert_exporter": "python",
   "pygments_lexer": "ipython3",
   "version": "3.7.3"
  }
 },
 "nbformat": 4,
 "nbformat_minor": 2
}
