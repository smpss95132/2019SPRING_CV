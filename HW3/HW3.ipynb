{
 "cells": [
  {
   "cell_type": "code",
   "execution_count": 1,
   "metadata": {},
   "outputs": [],
   "source": [
    "import numpy as np\n",
    "import cv2\n",
    "import matplotlib.pyplot as plt"
   ]
  },
  {
   "cell_type": "code",
   "execution_count": 2,
   "metadata": {},
   "outputs": [],
   "source": [
    "# read picture as GRAYSCALE\n",
    "img=cv2.imread('lena.bmp', cv2.IMREAD_GRAYSCALE)"
   ]
  },
  {
   "cell_type": "code",
   "execution_count": 3,
   "metadata": {},
   "outputs": [],
   "source": [
    "# histogram\n",
    "def histogram(image):\n",
    "    # a list with zeros\n",
    "    gray_scale_count=[0]*256\n",
    "    for i in range(image.shape[0]):\n",
    "        for j in range(image.shape[1]):\n",
    "            gray_scale_count[image[i][j]]=gray_scale_count[image[i][j]]+1\n",
    "    \n",
    "    index = np.arange(256)\n",
    "    plt.bar(index,gray_scale_count)\n",
    "    plt.grid(True)\n",
    "    plt.show()"
   ]
  },
  {
   "cell_type": "code",
   "execution_count": 4,
   "metadata": {},
   "outputs": [],
   "source": [
    "# intensity divided by 3\n",
    "def divided_3_image(image):\n",
    "    divided_image=np.zeros(shape=(image.shape[0],image.shape[1]),dtype=int)\n",
    "    #divide every pixel's gray scale by 3\n",
    "    for i in range(image.shape[0]):\n",
    "        for j in range(image.shape[1]):\n",
    "            divided_image[i][j]=int(image[i][j]/3)\n",
    "            \n",
    "    return divided_image\n",
    "            "
   ]
  },
  {
   "cell_type": "code",
   "execution_count": 5,
   "metadata": {},
   "outputs": [],
   "source": [
    "#  image after applying histogram equalization\n",
    "def equalization(image):\n",
    "    # count the number of pixel of each gray scale\n",
    "    gray_scale_count=[0]*256\n",
    "    for i in range(image.shape[0]):\n",
    "        for j in range(image.shape[1]):\n",
    "            gray_scale_count[image[i][j]]=gray_scale_count[image[i][j]]+1\n",
    "            \n",
    "    # new gray value\n",
    "    gray_scale_new_value=[0]*256\n",
    "    acc=0\n",
    "    \n",
    "    for i in range(256):\n",
    "        acc=acc+gray_scale_count[i]\n",
    "        gray_scale_new_value[i]=255*(acc/(image.shape[0]*image.shape[1]))\n",
    "        \n",
    "        \n",
    "    # replace the gray value\n",
    "    for i in range(image.shape[0]):\n",
    "        for j in range(image.shape[1]):\n",
    "            image[i][j]=gray_scale_new_value[image[i][j]]\n",
    "            \n",
    "    return image\n",
    "               "
   ]
  },
  {
   "cell_type": "code",
   "execution_count": 6,
   "metadata": {},
   "outputs": [
    {
     "data": {
      "image/png": "[encoded data removed]",
      "text/plain": [
       "<Figure size 432x288 with 1 Axes>"
      ]
     },
     "metadata": {
      "needs_background": "light"
     },
     "output_type": "display_data"
    },
    {
     "data": {
      "image/png": "[encoded data removed]",
      "text/plain": [
       "<Figure size 432x288 with 1 Axes>"
      ]
     },
     "metadata": {
      "needs_background": "light"
     },
     "output_type": "display_data"
    },
    {
     "data": {
      "image/png": "[encoded data removed]",
      "text/plain": [
       "<Figure size 432x288 with 1 Axes>"
      ]
     },
     "metadata": {
      "needs_background": "light"
     },
     "output_type": "display_data"
    }
   ],
   "source": [
    "#answer1\n",
    "histogram(img)\n",
    "\n",
    "#answer2\n",
    "answer1_2=divided_3_image(img)\n",
    "cv2.imwrite('answer1_2.bmp', answer1_2)\n",
    "histogram(answer1_2)\n",
    "\n",
    "#answer3\n",
    "answer1_3=equalization(answer1_2)\n",
    "cv2.imwrite('answer1_3.bmp', answer1_3)\n",
    "histogram(answer1_3)\n",
    "\n",
    "\n",
    "\n"
   ]
  }
 ],
 "metadata": {
  "kernelspec": {
   "display_name": "Python 3",
   "language": "python",
   "name": "python3"
  },
  "language_info": {
   "codemirror_mode": {
    "name": "ipython",
    "version": 3
   },
   "file_extension": ".py",
   "mimetype": "text/x-python",
   "name": "python",
   "nbconvert_exporter": "python",
   "pygments_lexer": "ipython3",
   "version": "3.7.3"
  }
 },
 "nbformat": 4,
 "nbformat_minor": 2
}
