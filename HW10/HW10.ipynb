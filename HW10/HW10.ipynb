{
 "cells": [
  {
   "cell_type": "code",
   "execution_count": 1,
   "metadata": {},
   "outputs": [],
   "source": [
    "import numpy as np\n",
    "import cv2\n",
    "import matplotlib.pyplot as plt\n",
    "import math"
   ]
  },
  {
   "cell_type": "code",
   "execution_count": 2,
   "metadata": {},
   "outputs": [],
   "source": [
    "# read picture as GRAYSCALE\n",
    "img=cv2.imread('lena.bmp', cv2.IMREAD_GRAYSCALE)"
   ]
  },
  {
   "cell_type": "code",
   "execution_count": 3,
   "metadata": {},
   "outputs": [],
   "source": [
    "def Minimum_variance_Laplacian_edge_detector(image,threshold):\n",
    "    result = np.zeros(image.shape,dtype = int)\n",
    "    result.fill(255)\n",
    "    mask_result = np.zeros(image.shape,dtype = int)\n",
    "    mask_result.fill(255)\n",
    "    \n",
    "    padded_image = cv2.copyMakeBorder(image,1,1,1,1,cv2.BORDER_REFLECT)\n",
    "    padded_image = padded_image.astype(int)\n",
    "    \n",
    "    mask = np.array([[ 2,-1, 2],\n",
    "                     [-1,-4,-1],\n",
    "                     [ 2,-1, 2]],dtype = int)\n",
    "    \n",
    "    for i in range(1,padded_image.shape[0]-1):\n",
    "        for j in range(1,padded_image.shape[1]-1):\n",
    "            gradient = np.sum(padded_image[i-1:i+2,j-1:j+2] * mask) * (1/3)\n",
    "            \n",
    "            if gradient >= threshold:\n",
    "                mask_result[i-1][j-1] = 1\n",
    "                \n",
    "            if gradient <= threshold*(-1):\n",
    "                mask_result[i-1][j-1] = -1\n",
    "                \n",
    "    padded_mask_result = cv2.copyMakeBorder(mask_result,1,1,1,1,cv2.BORDER_REFLECT)\n",
    "    padded_mask_result = padded_mask_result.astype(int)\n",
    "    around_list = [[-1,-1],[-1,0],[-1,1],[0,-1],[0,1],[1,-1],[1,0],[1,1]]\n",
    "    for i in range(1,padded_mask_result.shape[0]-1):\n",
    "        for j in range(1,padded_mask_result.shape[1]-1):\n",
    "            if padded_mask_result[i][j]==1:\n",
    "                for k in range(len(around_list)):\n",
    "                    if padded_mask_result[i + around_list[k][0]][j + around_list[k][1]] == -1:\n",
    "                        result[i-1][j-1] = 0\n",
    "                        break\n",
    "                        \n",
    "    return result"
   ]
  },
  {
   "cell_type": "code",
   "execution_count": 4,
   "metadata": {},
   "outputs": [],
   "source": [
    "def Laplacian_edge_detector(image,threshold,mask_type):\n",
    "    result = np.zeros(image.shape,dtype = int)\n",
    "    result.fill(255)\n",
    "    mask_result = np.zeros(image.shape,dtype = int)\n",
    "    mask_result.fill(255)\n",
    "    \n",
    "    padded_image = cv2.copyMakeBorder(image,1,1,1,1,cv2.BORDER_REFLECT)\n",
    "    padded_image = padded_image.astype(int)\n",
    "    \n",
    "    mask_1 = np.array([[ 0, 1, 0],\n",
    "                       [ 1,-4, 1],\n",
    "                       [ 0, 1, 0]],dtype = int)\n",
    "    \n",
    "    mask_2 = np.array([[ 1, 1, 1],\n",
    "                       [ 1,-8, 1],\n",
    "                       [ 1, 1, 1]],dtype = int)\n",
    "    \n",
    "    if mask_type==1:\n",
    "        mask = mask_1\n",
    "        coe = 1\n",
    "    else:\n",
    "        mask = mask_2\n",
    "        coe = 1/3\n",
    "    \n",
    "    for i in range(1,padded_image.shape[0]-1):\n",
    "        for j in range(1,padded_image.shape[1]-1):\n",
    "            gradient = np.sum(padded_image[i-1:i+2,j-1:j+2] * mask) * coe\n",
    "            \n",
    "            if gradient >= threshold:\n",
    "                mask_result[i-1][j-1] = 1\n",
    "                \n",
    "            if gradient <= threshold*(-1):\n",
    "                mask_result[i-1][j-1] = -1\n",
    "                \n",
    "    padded_mask_result = cv2.copyMakeBorder(mask_result,1,1,1,1,cv2.BORDER_REFLECT)\n",
    "    padded_mask_result = padded_mask_result.astype(int)\n",
    "    around_list = [[-1,-1],[-1,0],[-1,1],[0,-1],[0,1],[1,-1],[1,0],[1,1]]\n",
    "    for i in range(1,padded_mask_result.shape[0]-1):\n",
    "        for j in range(1,padded_mask_result.shape[1]-1):\n",
    "            if padded_mask_result[i][j]==1:\n",
    "                for k in range(len(around_list)):\n",
    "                    if padded_mask_result[i + around_list[k][0]][j + around_list[k][1]] == -1:\n",
    "                        result[i-1][j-1] = 0\n",
    "                        break\n",
    "                        \n",
    "    return result"
   ]
  },
  {
   "cell_type": "code",
   "execution_count": 5,
   "metadata": {},
   "outputs": [],
   "source": [
    "def Laplacian_of_Gaussian(image,threshold):\n",
    "    result = np.zeros(image.shape,dtype = int)\n",
    "    result.fill(255)\n",
    "    mask_result = np.zeros(image.shape,dtype = int)\n",
    "    mask_result.fill(255)\n",
    "    \n",
    "    padded_image = cv2.copyMakeBorder(image,5,5,5,5,cv2.BORDER_REFLECT)\n",
    "    padded_image = padded_image.astype(int)\n",
    "    \n",
    "    mask = np.array([[  0,  0,  0, -1, -1, -2, -1, -1,  0,  0,  0],\n",
    "                     [  0,  0, -2, -4, -8, -9, -8, -4, -2,  0,  0],\n",
    "                     [  0, -2, -7,-15,-22,-23,-22,-15, -7, -2,  0],\n",
    "                     [ -1, -4,-15,-24,-14, -1,-14,-24,-15, -4, -1],\n",
    "                     [ -1, -8,-22,-14, 52,103, 52,-14,-22, -8, -1],\n",
    "                     [ -2, -9,-23, -1,103,178,103, -1,-23, -9, -2],\n",
    "                     [ -1, -8,-22,-14, 52,103, 52,-14,-22, -8, -1],\n",
    "                     [ -1, -4,-15,-24,-14, -1,-14,-24,-15, -4, -1],\n",
    "                     [  0, -2, -7,-15,-22,-23,-22,-15, -7, -2,  0],\n",
    "                     [  0,  0, -2, -4, -8, -9, -8, -4, -2,  0,  0],\n",
    "                     [  0,  0,  0, -1, -1, -2, -1, -1,  0,  0,  0]],dtype = int)\n",
    "    \n",
    "    for i in range(5,padded_image.shape[0]-5):\n",
    "        for j in range(5,padded_image.shape[1]-5):\n",
    "            gradient = np.sum(padded_image[i-5:i+6,j-5:j+6] * mask)\n",
    "            \n",
    "            if gradient >= threshold:\n",
    "                mask_result[i-5][j-5] = 1\n",
    "                \n",
    "            if gradient <= threshold*(-1):\n",
    "                mask_result[i-5][j-5] = -1\n",
    "                \n",
    "    padded_mask_result = cv2.copyMakeBorder(mask_result,1,1,1,1,cv2.BORDER_REFLECT)\n",
    "    padded_mask_result = padded_mask_result.astype(int)\n",
    "    around_list = [[-1,-1],[-1,0],[-1,1],[0,-1],[0,1],[1,-1],[1,0],[1,1]]\n",
    "    for i in range(1,padded_mask_result.shape[0]-1):\n",
    "        for j in range(1,padded_mask_result.shape[1]-1):\n",
    "            if padded_mask_result[i][j]==1:\n",
    "                for k in range(len(around_list)):\n",
    "                    if padded_mask_result[i + around_list[k][0]][j + around_list[k][1]] == -1:\n",
    "                        result[i-1][j-1] = 0\n",
    "                        break\n",
    "                        \n",
    "    return result"
   ]
  },
  {
   "cell_type": "code",
   "execution_count": 6,
   "metadata": {},
   "outputs": [],
   "source": [
    "def Difference_of_Gaussian(image,threshold):\n",
    "    result = np.zeros(image.shape,dtype = int)\n",
    "    result.fill(255)\n",
    "    mask_result = np.zeros(image.shape,dtype = int)\n",
    "    mask_result.fill(255)\n",
    "    \n",
    "    padded_image = cv2.copyMakeBorder(image,5,5,5,5,cv2.BORDER_REFLECT)\n",
    "    padded_image = padded_image.astype(int)\n",
    "    \n",
    "    mask = np.array([[ -1, -3, -4, -6, -7, -8, -7, -6, -4, -3, -1],\n",
    "                     [ -3, -5, -8,-11,-13,-13,-13,-11, -8, -5, -3],\n",
    "                     [ -4, -8,-12,-16,-17,-17,-17,-16,-12, -8, -4],\n",
    "                     [ -6,-11,-16,-16,  0, 15,  0,-16,-16,-11, -6],\n",
    "                     [ -7,-13,-17,  0, 85,160, 85,  0,-17,-13, -7],\n",
    "                     [ -8,-13,-17, 15,160,283,160, 15,-17,-13, -8],\n",
    "                     [ -7,-13,-17,  0, 85,160, 85,  0,-17,-13, -7],\n",
    "                     [ -6,-11,-16,-16,  0, 15,  0,-16,-16,-11, -6],\n",
    "                     [ -4, -8,-12,-16,-17,-17,-17,-16,-12, -8, -4],\n",
    "                     [ -3, -5, -8,-11,-13,-13,-13,-11, -8, -5, -3],\n",
    "                     [ -1, -3, -4, -6, -7, -8, -7, -6, -4, -3, -1]],dtype = int)\n",
    "    \n",
    "    for i in range(5,padded_image.shape[0]-5):\n",
    "        for j in range(5,padded_image.shape[1]-5):\n",
    "            gradient = np.sum(padded_image[i-5:i+6,j-5:j+6] * mask)\n",
    "            \n",
    "            if gradient >= threshold:\n",
    "                mask_result[i-5][j-5] = 1\n",
    "                \n",
    "            if gradient <= threshold*(-1):\n",
    "                mask_result[i-5][j-5] = -1\n",
    "                \n",
    "    padded_mask_result = cv2.copyMakeBorder(mask_result,1,1,1,1,cv2.BORDER_REFLECT)\n",
    "    padded_mask_result = padded_mask_result.astype(int)\n",
    "    around_list = [[-1,-1],[-1,0],[-1,1],[0,-1],[0,1],[1,-1],[1,0],[1,1]]\n",
    "    for i in range(1,padded_mask_result.shape[0]-1):\n",
    "        for j in range(1,padded_mask_result.shape[1]-1):\n",
    "            if padded_mask_result[i][j]==1:\n",
    "                for k in range(len(around_list)):\n",
    "                    if padded_mask_result[i + around_list[k][0]][j + around_list[k][1]] == -1:\n",
    "                        result[i-1][j-1] = 0\n",
    "                        break\n",
    "                        \n",
    "    return result"
   ]
  },
  {
   "cell_type": "code",
   "execution_count": 7,
   "metadata": {},
   "outputs": [
    {
     "data": {
      "text/plain": [
       "True"
      ]
     },
     "execution_count": 7,
     "metadata": {},
     "output_type": "execute_result"
    }
   ],
   "source": [
    "result = Laplacian_edge_detector(img,15,1)\n",
    "cv2.imwrite('Laplacian_edge_1.bmp', result)\n",
    "result = Laplacian_edge_detector(img,15,2)\n",
    "cv2.imwrite('Laplacian_edge_2.bmp', result)"
   ]
  },
  {
   "cell_type": "code",
   "execution_count": 8,
   "metadata": {},
   "outputs": [
    {
     "data": {
      "text/plain": [
       "True"
      ]
     },
     "execution_count": 8,
     "metadata": {},
     "output_type": "execute_result"
    }
   ],
   "source": [
    "result = Minimum_variance_Laplacian_edge_detector(img,20)\n",
    "cv2.imwrite('Minimum_variance_Laplacian_edge.bmp', result)"
   ]
  },
  {
   "cell_type": "code",
   "execution_count": 9,
   "metadata": {},
   "outputs": [
    {
     "data": {
      "text/plain": [
       "True"
      ]
     },
     "execution_count": 9,
     "metadata": {},
     "output_type": "execute_result"
    }
   ],
   "source": [
    "result = Laplacian_of_Gaussian(img,3000)\n",
    "cv2.imwrite('Laplacian_of_Gaussian_edge.bmp', result)"
   ]
  },
  {
   "cell_type": "code",
   "execution_count": 10,
   "metadata": {},
   "outputs": [
    {
     "data": {
      "text/plain": [
       "True"
      ]
     },
     "execution_count": 10,
     "metadata": {},
     "output_type": "execute_result"
    }
   ],
   "source": [
    "result = Difference_of_Gaussian(img,1)\n",
    "cv2.imwrite('Difference_of_Gaussian_edge.bmp', result)"
   ]
  }
 ],
 "metadata": {
  "kernelspec": {
   "display_name": "Python 3",
   "language": "python",
   "name": "python3"
  },
  "language_info": {
   "codemirror_mode": {
    "name": "ipython",
    "version": 3
   },
   "file_extension": ".py",
   "mimetype": "text/x-python",
   "name": "python",
   "nbconvert_exporter": "python",
   "pygments_lexer": "ipython3",
   "version": "3.7.5"
  }
 },
 "nbformat": 4,
 "nbformat_minor": 2
}
