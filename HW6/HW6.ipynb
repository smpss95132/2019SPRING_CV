{
 "cells": [
  {
   "cell_type": "code",
   "execution_count": 10,
   "metadata": {},
   "outputs": [],
   "source": [
    "import numpy as np\n",
    "import cv2\n",
    "import matplotlib.pyplot as plt"
   ]
  },
  {
   "cell_type": "code",
   "execution_count": 11,
   "metadata": {},
   "outputs": [],
   "source": [
    "# read picture as GRAYSCALE\n",
    "img=cv2.imread('lena.bmp', cv2.IMREAD_GRAYSCALE)"
   ]
  },
  {
   "cell_type": "code",
   "execution_count": 12,
   "metadata": {},
   "outputs": [],
   "source": [
    "# binary image (white->1 black->0)\n",
    "def binarize(image):\n",
    "    answer=np.zeros(image.shape, dtype=np.uint8)\n",
    "    for i in range(image.shape[0]):\n",
    "        for j in range(image.shape[1]):\n",
    "            if image[i][j]>127:\n",
    "                answer[i][j] = 1\n",
    "            else:\n",
    "                answer[i][j] = 0\n",
    "    return answer"
   ]
  },
  {
   "cell_type": "code",
   "execution_count": 13,
   "metadata": {},
   "outputs": [],
   "source": [
    "# top-left downsample image(8*8)\n",
    "def Top_left_DownSample(binary_image):\n",
    "    new_shape_0 = int(binary_image.shape[0]/8)\n",
    "    new_shape_1 = int(binary_image.shape[1]/8)\n",
    "    return_matrix = np.zeros((new_shape_0,new_shape_1))\n",
    "    \n",
    "    for i in range(0,binary_image.shape[0],8):\n",
    "        for j in range(0,binary_image.shape[1],8):\n",
    "            if binary_image[i][j] == 1:\n",
    "                return_matrix[int(i/8)][int(j/8)] = 1\n",
    "                \n",
    "    return return_matrix\n",
    "                \n",
    "            "
   ]
  },
  {
   "cell_type": "code",
   "execution_count": 14,
   "metadata": {},
   "outputs": [],
   "source": [
    "# decide the corner type\n",
    "def Yokoi_corner_type(b,c,d,e):\n",
    "    if b==c and (d!=b or e!=b):\n",
    "        return 'q'\n",
    "    elif b==c and d==b and e==b:\n",
    "        return 'r'\n",
    "    elif b!=c:\n",
    "        return 's'\n",
    "    else:\n",
    "        print(\"error! not a corner type!\")"
   ]
  },
  {
   "cell_type": "code",
   "execution_count": 15,
   "metadata": {},
   "outputs": [],
   "source": [
    "# decide the Yokoi number\n",
    "def Yokoi_number(sub_image):\n",
    "    dictionary = {'q': 0, 'r': 0, 's': 0}\n",
    "    \n",
    "    # top_right\n",
    "    dictionary[Yokoi_corner_type(sub_image[1][1],sub_image[1][2],sub_image[0][2],sub_image[0][1])]+=1\n",
    "    # top_left\n",
    "    dictionary[Yokoi_corner_type(sub_image[1][1],sub_image[0][1],sub_image[0][0],sub_image[1][0])]+=1\n",
    "    # buttom_left\n",
    "    dictionary[Yokoi_corner_type(sub_image[1][1],sub_image[1][0],sub_image[2][0],sub_image[2][1])]+=1\n",
    "    # buttom_right\n",
    "    dictionary[Yokoi_corner_type(sub_image[1][1],sub_image[2][1],sub_image[2][2],sub_image[1][2])]+=1\n",
    "    \n",
    "    if dictionary['s'] == 4:\n",
    "        return 0\n",
    "    elif dictionary['q'] == 1:\n",
    "        return 1\n",
    "    elif dictionary['q'] == 2:\n",
    "        return 2\n",
    "    elif dictionary['q'] == 3:\n",
    "        return 3\n",
    "    elif dictionary['q'] == 4:\n",
    "        return 4\n",
    "    elif dictionary['r'] == 4:\n",
    "        return 5\n",
    "    else:\n",
    "        print(\"error! not a yokoi number!\")\n",
    "        "
   ]
  },
  {
   "cell_type": "code",
   "execution_count": 16,
   "metadata": {},
   "outputs": [],
   "source": [
    "def Yokoi(image):\n",
    "    binary_image = binarize(image)\n",
    "    down_sample_image = Top_left_DownSample(binary_image)\n",
    "    \n",
    "    result_shape_0 = down_sample_image.shape[0]\n",
    "    result_shape_1 = down_sample_image.shape[1]\n",
    "    \n",
    "    zero_padding_down_sample_image = np.zeros((result_shape_0 + 2,result_shape_1 + 2),dtype=int)\n",
    "    zero_padding_down_sample_image[1:result_shape_0 + 1,1:result_shape_1 + 1] = down_sample_image[0:result_shape_0][0:result_shape_0]\n",
    "    \n",
    "    return_matrix = np.zeros((result_shape_0,result_shape_1),dtype=int)\n",
    "    return_matrix.fill(-1)\n",
    "    \n",
    "    for i in range(1,result_shape_0 + 1):\n",
    "        for j in range(1,result_shape_1 + 1):\n",
    "            if zero_padding_down_sample_image[i][j] == 1:\n",
    "                return_matrix[i-1][j-1] =  Yokoi_number(zero_padding_down_sample_image[i-1:i+2,j-1:j+2])\n",
    "    \n",
    "    return return_matrix"
   ]
  },
  {
   "cell_type": "code",
   "execution_count": 17,
   "metadata": {
    "scrolled": false
   },
   "outputs": [
    {
     "name": "stdout",
     "output_type": "stream",
     "text": [
      "11111111        12111111111122322221     111111111111           \n",
      "15555551         115555555511 2 11  11   1155555555511          \n",
      "15555551        1 2115555112  21112221    155555555551      21  \n",
      "15555551        1 2 155112 22221511       1555555555511     1   \n",
      "15555551         22 2112 22    121        15555555555511        \n",
      "15555551         1  2  21 2     1   1     15555555555551        \n",
      "15555551           12 1  121111    1321   155555555555511       \n",
      "15111551           1322 1155551111        155555555555551       \n",
      "111 1551            1  121555555511       155555555555511       \n",
      "11  1551                 21155555511      15511155555511        \n",
      "21  1551                 2 15555555111    1551 11555511         \n",
      "1   1551                 2 155555555511   1551  115551         1\n",
      "    1551               1121155555555551   1551   15511        12\n",
      "    1551               15555555555555511  1551   1111        111\n",
      "    1551        1     2221155555555555511 1151    11        1151\n",
      "    1551        2    22 1 1555555555555511 151  11111       1551\n",
      "    1551        2    1   11555555555555551 151 115551      11551\n",
      "    1551        2       11555555555555555111511155511     115551\n",
      "    1551       12      11555555555555555555555555551      155551\n",
      "    1551       11     221555555555555555555555555112     1155551\n",
      "    1551       111   22 15555555555555555555555551 1     1555551\n",
      "    1551       1511  1 125112111112111555555555111      11555551\n",
      "    1551       15521  1 121 1 11  1  15555555111        15555551\n",
      "    1551       1151  132 2          1155555111         115555551\n",
      "    1551        151    322         115555111  121      155555551\n",
      "    1551        1221   2           1555551   131      1155555551\n",
      "    1551         2     1          115555511   1       1155555551\n",
      "    1551         2               1155555551          1 155555551\n",
      "    1551         2              11555555551          21155555551\n",
      "    1551         1             115555555551          15555555551\n",
      "    1551          1           11511115555521  1     115555555551\n",
      "    1551        1 1          11111  1155511   2     155555555551\n",
      "    1551       131           111     15111    2     155555555551\n",
      "    1551      121          1121   1  111  1   2    1155555555551\n",
      "    1551      11           111 1  221 11  1   2    1555555555551\n",
      "    1551    12       1     21 121  11 1111    2    1555555555551\n",
      "    1551     1      12    22  151111111551    2   11555555555551\n",
      "    1551   1              2   1555551115511   1   15555555555551\n",
      "    1551   2             22  12555551 15551    1  15555555555551\n",
      "    1551   1             1    1555511 11511    2 115555555555551\n",
      "    1551               21     155551 1 151     2 155555555555551\n",
      "    1551               2      15555112 151     2 155555555555551\n",
      "    1551         1   1 1     1155555511111     2 155555555555551\n",
      "    1551         2  22       111511111212      21155555555555551\n",
      "    1551         1 12          151    2 1      15555555111555551\n",
      "    1551                       1111  121       155555551 1555551\n",
      "    1551                        11111111       155555551 1555551\n",
      "    1551                         115551        155555551 1555511\n",
      "    1551                          15551        211111111 155511 \n",
      "    11521      1   12          122155511       2     11 115511  \n",
      "1    151       1    1            155555111     2111     15511   \n",
      "22   1511          1             15555555111   155111   1511    \n",
      " 22  1511          1             15555555551   155551  1151     \n",
      "  2  151              1        11155555555511  155511  1511     \n",
      "  2  1521             1        155555555555511 15551 12151      \n",
      "  2  151           121         155555555555551 155511 1551      \n",
      "  2  1511                      155555555555551 115551 1511      \n",
      "  21 1511            11        155555555555551  111111151       \n",
      "  11 151                      11555555555555511    111511       \n",
      "  11 151                      15555555555555551      151        \n",
      "  11 151                     115555555555555551      211        \n",
      "  11 151                     1155555555555555511     1          \n",
      "  11 151                      155555555555555551                \n",
      "  11 111                     1211111111111111111                \n",
      "\n"
     ]
    }
   ],
   "source": [
    "result = Yokoi(img)\n",
    "result_string = \"\"\n",
    "\n",
    "for i in range(result.shape[0]):\n",
    "    for j in range(result.shape[1]):\n",
    "        if result[i][j]>0:\n",
    "            result_string = result_string + str(result[i][j])\n",
    "        else:\n",
    "            result_string = result_string + \" \"\n",
    "    result_string = result_string + \"\\n\"\n",
    "    \n",
    "print(result_string)"
   ]
  }
 ],
 "metadata": {
  "kernelspec": {
   "display_name": "Python 3",
   "language": "python",
   "name": "python3"
  },
  "language_info": {
   "codemirror_mode": {
    "name": "ipython",
    "version": 3
   },
   "file_extension": ".py",
   "mimetype": "text/x-python",
   "name": "python",
   "nbconvert_exporter": "python",
   "pygments_lexer": "ipython3",
   "version": "3.7.3"
  }
 },
 "nbformat": 4,
 "nbformat_minor": 2
}
