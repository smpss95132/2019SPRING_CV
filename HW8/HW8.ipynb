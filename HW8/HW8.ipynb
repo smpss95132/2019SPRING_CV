{
 "cells": [
  {
   "cell_type": "code",
   "execution_count": 113,
   "metadata": {},
   "outputs": [],
   "source": [
    "import numpy as np\n",
    "import cv2\n",
    "import matplotlib.pyplot as plt\n",
    "import random\n",
    "import math"
   ]
  },
  {
   "cell_type": "code",
   "execution_count": 114,
   "metadata": {},
   "outputs": [],
   "source": [
    "# read picture as GRAYSCALE\n",
    "img = cv2.imread('lena.bmp', cv2.IMREAD_GRAYSCALE)\n",
    "img2 = cv2.imread('WB.bmp', cv2.IMREAD_GRAYSCALE)"
   ]
  },
  {
   "cell_type": "code",
   "execution_count": 115,
   "metadata": {},
   "outputs": [],
   "source": [
    "# negative=>abs ,positive=>0\n",
    "def operator(top_diff,buttom_diff,left_diff,right_diff,shape):\n",
    "    return_list=[]\n",
    "    \n",
    "    if top_diff<0:\n",
    "        return_list.append(abs(top_diff))\n",
    "    else:\n",
    "        return_list.append(0)\n",
    "        \n",
    "    if buttom_diff>shape[0]-1:\n",
    "        return_list.append(buttom_diff-shape[0]+1)\n",
    "    else:\n",
    "        return_list.append(0)\n",
    "    \n",
    "    if left_diff<0:\n",
    "        return_list.append(abs(left_diff))\n",
    "    else:\n",
    "        return_list.append(0)\n",
    "        \n",
    "    if right_diff>shape[1]-1:\n",
    "        return_list.append(right_diff-shape[1]+1)\n",
    "    else:\n",
    "        return_list.append(0)\n",
    "        \n",
    "    return return_list"
   ]
  },
  {
   "cell_type": "code",
   "execution_count": 116,
   "metadata": {},
   "outputs": [],
   "source": [
    "def SNR(origin_image,noise_image):\n",
    "    \n",
    "    origin_image = origin_image / 255.0\n",
    "    noise_image = noise_image / 255.0\n",
    "    \n",
    "    average_origin = np.average(origin_image)\n",
    "    VS = 0\n",
    "    for i in range(origin_image.shape[0]):\n",
    "        for j in range(origin_image.shape[1]):\n",
    "            VS = VS + (origin_image[i][j] - average_origin) * (origin_image[i][j] - average_origin)\n",
    "    VS = VS / (origin_image.shape[0] * origin_image.shape[1])\n",
    "    #print(\"VS\",VS)\n",
    "    \n",
    "    \n",
    "    diff_image = noise_image - origin_image\n",
    "    \n",
    "    average_diff = np.average(diff_image)\n",
    "    VN = 0\n",
    "    for i in range(diff_image.shape[0]):\n",
    "        for j in range(diff_image.shape[1]):\n",
    "            VN = VN + (diff_image[i][j] - average_diff) * (diff_image[i][j] - average_diff)\n",
    "    VN = VN / (diff_image.shape[0] * diff_image.shape[1])\n",
    "    #print(\"VN\",VN)\n",
    "        \n",
    "    SNR = 20 * math.log(math.sqrt(VS/VN),10)\n",
    "    \n",
    "    return SNR\n",
    "    "
   ]
  },
  {
   "cell_type": "code",
   "execution_count": 117,
   "metadata": {},
   "outputs": [],
   "source": [
    "def Gaussian_noise(image,amplitude):\n",
    "    result = np.zeros(image.shape,dtype=np.uint8)\n",
    "    \n",
    "    for i in range(image.shape[0]):\n",
    "        for j in range(image.shape[1]):\n",
    "            result[i][j] = image[i][j] + amplitude * random.gauss(0, 1)\n",
    "            \n",
    "    return result"
   ]
  },
  {
   "cell_type": "code",
   "execution_count": 118,
   "metadata": {},
   "outputs": [],
   "source": [
    "def Salt_and_pepper_noise(image,probability):\n",
    "    result = np.zeros(image.shape,dtype=np.uint8)\n",
    "    \n",
    "    for i in range(image.shape[0]):\n",
    "        for j in range(image.shape[1]):\n",
    "            random_number = random.uniform(0,1)\n",
    "            \n",
    "            if random_number < probability:\n",
    "                result[i][j] = 0\n",
    "            elif random_number > (1 - probability):\n",
    "                result[i][j] = 255\n",
    "            else:\n",
    "                result[i][j] = image[i][j]\n",
    "\n",
    "    return result            "
   ]
  },
  {
   "cell_type": "code",
   "execution_count": 119,
   "metadata": {},
   "outputs": [],
   "source": [
    "def box_filter(noise_image,kernel_size):\n",
    "    result = np.zeros(noise_image.shape,dtype=np.uint8)\n",
    "    \n",
    "    window_size = int(kernel_size/2)\n",
    "    padded_image = cv2.copyMakeBorder(noise_image,window_size,window_size,window_size,window_size,cv2.BORDER_REFLECT) \n",
    "    \n",
    "    for i in range(window_size,padded_image.shape[0]-window_size):\n",
    "        for j in range(window_size,padded_image.shape[1]-window_size):\n",
    "            window = padded_image[i-window_size:i+window_size+1,j-window_size:j+window_size+1]\n",
    "            result[i-window_size][j-window_size] = int(np.average(window))\n",
    "    \n",
    "    return result   "
   ]
  },
  {
   "cell_type": "code",
   "execution_count": 120,
   "metadata": {},
   "outputs": [],
   "source": [
    "def median_filter(noise_image,kernel_size):\n",
    "    result = np.zeros(noise_image.shape,dtype=np.uint8)\n",
    "    \n",
    "    window_size = int(kernel_size/2)\n",
    "    padded_image = cv2.copyMakeBorder(noise_image,window_size,window_size,window_size,window_size,cv2.BORDER_REFLECT) \n",
    "    \n",
    "    for i in range(window_size,padded_image.shape[0]-window_size):\n",
    "        for j in range(window_size,padded_image.shape[1]-window_size):\n",
    "            window = padded_image[i-window_size:i+window_size+1,j-window_size:j+window_size+1]\n",
    "            result[i-window_size][j-window_size] = np.median(window)\n",
    "    \n",
    "    return result  "
   ]
  },
  {
   "cell_type": "code",
   "execution_count": 121,
   "metadata": {},
   "outputs": [],
   "source": [
    "# gray-scale dilation\n",
    "def dilation_gray_scale(image,kernel,kernel_center):\n",
    "    \n",
    "    return_image = np.zeros(image.shape)\n",
    "    \n",
    "    top_border=-1*kernel_center[0]\n",
    "    buttom_border=kernel.shape[0]-1-kernel_center[0]\n",
    "    left_border=-1*kernel_center[1]\n",
    "    right_border=kernel.shape[1]-1-kernel_center[1]\n",
    "\n",
    "    for i in range(image.shape[0]):\n",
    "        for j in range(image.shape[1]):\n",
    "            top_diff=i+top_border\n",
    "            buttom_diff=i+buttom_border\n",
    "            left_diff=j+left_border\n",
    "            right_diff=j+right_border\n",
    "                \n",
    "            top_diff,buttom_diff,left_diff,right_diff = operator(top_diff,buttom_diff,left_diff,right_diff,image.shape)\n",
    "            \n",
    "            sub_image = image[i+top_border+top_diff:i+buttom_border-buttom_diff+1,j+left_border+left_diff:j+right_border-right_diff+1]\n",
    "            sub_kernel = kernel[top_diff:kernel.shape[0]-buttom_diff,left_diff:kernel.shape[1]-right_diff]\n",
    "                \n",
    "            sub_kernel_TF = (sub_kernel==1)\n",
    "            return_image[i][j] = np.max(sub_image[sub_kernel_TF])\n",
    "                \n",
    "    return return_image"
   ]
  },
  {
   "cell_type": "code",
   "execution_count": 122,
   "metadata": {},
   "outputs": [],
   "source": [
    "# gray-scale erosion\n",
    "def erosion_gray_scale(image,kernel,kernel_center):\n",
    "    \n",
    "    return_image = np.zeros(image.shape)\n",
    "    \n",
    "    top_border=-1*kernel_center[0]\n",
    "    buttom_border=kernel.shape[0]-1-kernel_center[0]\n",
    "    left_border=-1*kernel_center[1]\n",
    "    right_border=kernel.shape[1]-1-kernel_center[1]\n",
    "\n",
    "    for i in range(image.shape[0]):\n",
    "        for j in range(image.shape[1]):\n",
    "            top_diff=i+top_border\n",
    "            buttom_diff=i+buttom_border\n",
    "            left_diff=j+left_border\n",
    "            right_diff=j+right_border\n",
    "                \n",
    "            top_diff,buttom_diff,left_diff,right_diff = operator(top_diff,buttom_diff,left_diff,right_diff,image.shape)\n",
    "            \n",
    "            sub_image = image[i+top_border+top_diff:i+buttom_border-buttom_diff+1,j+left_border+left_diff:j+right_border-right_diff+1]\n",
    "            sub_kernel = kernel[top_diff:kernel.shape[0]-buttom_diff,left_diff:kernel.shape[1]-right_diff]\n",
    "                \n",
    "            sub_kernel_TF = (sub_kernel==1)\n",
    "            return_image[i][j] = np.min(sub_image[sub_kernel_TF])\n",
    "                \n",
    "    return return_image"
   ]
  },
  {
   "cell_type": "code",
   "execution_count": 123,
   "metadata": {},
   "outputs": [],
   "source": [
    "def opening(image,kernel,kernel_center):\n",
    "    return dilation_gray_scale(erosion_gray_scale(image,kernel,kernel_center),kernel,kernel_center)"
   ]
  },
  {
   "cell_type": "code",
   "execution_count": 124,
   "metadata": {},
   "outputs": [],
   "source": [
    "def closing(image,kernel,kernel_center):\n",
    "    return erosion_gray_scale(dilation_gray_scale(image,kernel,kernel_center),kernel,kernel_center)"
   ]
  },
  {
   "cell_type": "code",
   "execution_count": 125,
   "metadata": {},
   "outputs": [],
   "source": [
    "kernel = np.array([[0,1,1,1,0],[1,1,1,1,1],[1,1,1,1,1],[1,1,1,1,1],[0,1,1,1,0]])\n",
    "kernel_center = [2,2]"
   ]
  },
  {
   "cell_type": "code",
   "execution_count": 126,
   "metadata": {},
   "outputs": [
    {
     "data": {
      "text/plain": [
       "True"
      ]
     },
     "execution_count": 126,
     "metadata": {},
     "output_type": "execute_result"
    }
   ],
   "source": [
    "noising_image = Gaussian_noise(img2,5)\n",
    "cv2.imwrite('Gau5.bmp', noising_image)\n",
    "noising_image = Gaussian_noise(img2,10)\n",
    "cv2.imwrite('Gau10.bmp', noising_image)\n",
    "noising_image = Gaussian_noise(img2,15)\n",
    "cv2.imwrite('Gau15.bmp', noising_image)\n",
    "noising_image = Salt_and_pepper_noise(img2,0.05)\n",
    "cv2.imwrite('GSP005.bmp', noising_image)\n",
    "noising_image = Salt_and_pepper_noise(img2,0.1)\n",
    "cv2.imwrite('GSP010.bmp', noising_image)\n",
    "noising_image = Salt_and_pepper_noise(img2,0.15)\n",
    "cv2.imwrite('GSP015.bmp', noising_image)"
   ]
  },
  {
   "cell_type": "code",
   "execution_count": 15,
   "metadata": {},
   "outputs": [
    {
     "name": "stdout",
     "output_type": "stream",
     "text": [
      "Gaussian_noise_030 :  2.1634089114427764\n",
      "box_3:  9.832961798948233\n",
      "box_5:  10.826065972962265\n",
      "median_3:  10.747163390893483\n",
      "median_5:  12.429646873689686\n",
      "opening_closing:  8.051161519049714\n",
      "closing_opening:  7.92586358334227\n"
     ]
    }
   ],
   "source": [
    "noising_image = Gaussian_noise(img,30)\n",
    "target = \"Gaussian_noise_030\"\n",
    "print(target,\": \" ,SNR(img,noising_image))\n",
    "\n",
    "result = box_filter(noising_image,3)\n",
    "cv2.imwrite(target + '_box_3.bmp', result)\n",
    "print(\"box_3: \", SNR(img,result))\n",
    "\n",
    "result = box_filter(noising_image,5)\n",
    "cv2.imwrite(target + '_box_5.bmp', result)\n",
    "print(\"box_5: \", SNR(img,result))\n",
    "\n",
    "result = median_filter(noising_image,3)\n",
    "cv2.imwrite(target + '_median_3.bmp', result)\n",
    "print(\"median_3: \", SNR(img,result))\n",
    "\n",
    "result = median_filter(noising_image,5)\n",
    "cv2.imwrite(target + '_median_5.bmp', result)\n",
    "print(\"median_5: \", SNR(img,result))\n",
    "\n",
    "result = closing(opening(noising_image,kernel,kernel_center),kernel,kernel_center)\n",
    "cv2.imwrite(target + '_opening_closing.bmp', result)\n",
    "print(\"opening_closing: \", SNR(img,result))\n",
    "\n",
    "result = opening(closing(noising_image,kernel,kernel_center),kernel,kernel_center)\n",
    "cv2.imwrite(target + '_closing_opening.bmp', result)\n",
    "print(\"closing_opening: \", SNR(img,result))"
   ]
  }
 ],
 "metadata": {
  "kernelspec": {
   "display_name": "Python 3",
   "language": "python",
   "name": "python3"
  },
  "language_info": {
   "codemirror_mode": {
    "name": "ipython",
    "version": 3
   },
   "file_extension": ".py",
   "mimetype": "text/x-python",
   "name": "python",
   "nbconvert_exporter": "python",
   "pygments_lexer": "ipython3",
   "version": "3.7.5"
  }
 },
 "nbformat": 4,
 "nbformat_minor": 2
}
