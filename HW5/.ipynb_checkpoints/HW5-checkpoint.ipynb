{
 "cells": [
  {
   "cell_type": "code",
   "execution_count": 1,
   "metadata": {},
   "outputs": [],
   "source": [
    "import numpy as np\n",
    "import cv2\n",
    "import matplotlib.pyplot as plt"
   ]
  },
  {
   "cell_type": "code",
   "execution_count": 2,
   "metadata": {},
   "outputs": [],
   "source": [
    "# read picture as GRAYSCALE\n",
    "img=cv2.imread('lena.bmp', cv2.IMREAD_GRAYSCALE)"
   ]
  },
  {
   "cell_type": "code",
   "execution_count": 3,
   "metadata": {},
   "outputs": [],
   "source": [
    "# negative=>abs ,positive=>0\n",
    "def operator(top_diff,buttom_diff,left_diff,right_diff,shape):\n",
    "    return_list=[]\n",
    "    \n",
    "    if top_diff<0:\n",
    "        return_list.append(abs(top_diff))\n",
    "    else:\n",
    "        return_list.append(0)\n",
    "        \n",
    "    if buttom_diff>shape[0]-1:\n",
    "        return_list.append(buttom_diff-shape[0]+1)\n",
    "    else:\n",
    "        return_list.append(0)\n",
    "    \n",
    "    if left_diff<0:\n",
    "        return_list.append(abs(left_diff))\n",
    "    else:\n",
    "        return_list.append(0)\n",
    "        \n",
    "    if right_diff>shape[1]-1:\n",
    "        return_list.append(right_diff-shape[1]+1)\n",
    "    else:\n",
    "        return_list.append(0)\n",
    "        \n",
    "    return return_list"
   ]
  },
  {
   "cell_type": "code",
   "execution_count": 4,
   "metadata": {},
   "outputs": [],
   "source": [
    "# gray-scale dilation\n",
    "def dilation_gray_scale(image,kernel,kernel_center):\n",
    "    \n",
    "    return_image = np.zeros(image.shape)\n",
    "    \n",
    "    top_border=-1*kernel_center[0]\n",
    "    buttom_border=kernel.shape[0]-1-kernel_center[0]\n",
    "    left_border=-1*kernel_center[1]\n",
    "    right_border=kernel.shape[1]-1-kernel_center[1]\n",
    "\n",
    "    for i in range(image.shape[0]):\n",
    "        for j in range(image.shape[1]):\n",
    "            top_diff=i+top_border\n",
    "            buttom_diff=i+buttom_border\n",
    "            left_diff=j+left_border\n",
    "            right_diff=j+right_border\n",
    "                \n",
    "            top_diff,buttom_diff,left_diff,right_diff = operator(top_diff,buttom_diff,left_diff,right_diff,image.shape)\n",
    "            \n",
    "            sub_image = image[i+top_border+top_diff:i+buttom_border-buttom_diff+1,j+left_border+left_diff:j+right_border-right_diff+1]\n",
    "            sub_kernel = kernel[top_diff:kernel.shape[0]-buttom_diff,left_diff:kernel.shape[1]-right_diff]\n",
    "                \n",
    "            sub_kernel_TF = (sub_kernel==1)\n",
    "            return_image[i][j] = np.max(sub_image[sub_kernel_TF])\n",
    "                \n",
    "    return return_image"
   ]
  },
  {
   "cell_type": "code",
   "execution_count": 5,
   "metadata": {},
   "outputs": [],
   "source": [
    "# gray-scale erosion\n",
    "def erosion_gray_scale(image,kernel,kernel_center):\n",
    "    \n",
    "    return_image = np.zeros(image.shape)\n",
    "    \n",
    "    top_border=-1*kernel_center[0]\n",
    "    buttom_border=kernel.shape[0]-1-kernel_center[0]\n",
    "    left_border=-1*kernel_center[1]\n",
    "    right_border=kernel.shape[1]-1-kernel_center[1]\n",
    "\n",
    "    for i in range(image.shape[0]):\n",
    "        for j in range(image.shape[1]):\n",
    "            top_diff=i+top_border\n",
    "            buttom_diff=i+buttom_border\n",
    "            left_diff=j+left_border\n",
    "            right_diff=j+right_border\n",
    "                \n",
    "            top_diff,buttom_diff,left_diff,right_diff = operator(top_diff,buttom_diff,left_diff,right_diff,image.shape)\n",
    "            \n",
    "            sub_image = image[i+top_border+top_diff:i+buttom_border-buttom_diff+1,j+left_border+left_diff:j+right_border-right_diff+1]\n",
    "            sub_kernel = kernel[top_diff:kernel.shape[0]-buttom_diff,left_diff:kernel.shape[1]-right_diff]\n",
    "                \n",
    "            sub_kernel_TF = (sub_kernel==1)\n",
    "            return_image[i][j] = np.min(sub_image[sub_kernel_TF])\n",
    "                \n",
    "    return return_image"
   ]
  },
  {
   "cell_type": "code",
   "execution_count": 6,
   "metadata": {},
   "outputs": [
    {
     "name": "stdout",
     "output_type": "stream",
     "text": [
      "dilationing...\n",
      "erosioning...\n",
      "opining...\n",
      "closing...\n"
     ]
    },
    {
     "data": {
      "text/plain": [
       "True"
      ]
     },
     "execution_count": 6,
     "metadata": {},
     "output_type": "execute_result"
    }
   ],
   "source": [
    "kernel = np.array([[0,1,1,1,0],[1,1,1,1,1],[1,1,1,1,1],[1,1,1,1,1],[0,1,1,1,0]])\n",
    "kernel_center = [2,2]\n",
    "#A = np.array([[0,1,1,0,0],[0,1,0,0,1],[1,1,0,0,0],[0,0,1,1,0],[1,1,1,0,1]])\n",
    "#kernal_try = np.array([[1,1],[1,0]])\n",
    "\n",
    "print(\"dilationing...\")\n",
    "result_dilation = dilation_gray_scale(img,kernel,kernel_center)\n",
    "print(\"erosioning...\")\n",
    "result_erosion = erosion_gray_scale(img,kernel,kernel_center)\n",
    "print(\"opining...\")\n",
    "result_opining = dilation_gray_scale(erosion_gray_scale(img,kernel,kernel_center),kernel,kernel_center)\n",
    "print(\"closing...\")\n",
    "result_closing = erosion_gray_scale(dilation_gray_scale(img,kernel,kernel_center),kernel,kernel_center)\n",
    "\n",
    "cv2.imwrite('dilation.bmp',result_dilation)\n",
    "cv2.imwrite('erosion.bmp',result_erosion)\n",
    "cv2.imwrite('opining.bmp',result_opining)\n",
    "cv2.imwrite('closing.bmp',result_closing)"
   ]
  }
 ],
 "metadata": {
  "kernelspec": {
   "display_name": "Python 3",
   "language": "python",
   "name": "python3"
  },
  "language_info": {
   "codemirror_mode": {
    "name": "ipython",
    "version": 3
   },
   "file_extension": ".py",
   "mimetype": "text/x-python",
   "name": "python",
   "nbconvert_exporter": "python",
   "pygments_lexer": "ipython3",
   "version": "3.7.3"
  }
 },
 "nbformat": 4,
 "nbformat_minor": 2
}
