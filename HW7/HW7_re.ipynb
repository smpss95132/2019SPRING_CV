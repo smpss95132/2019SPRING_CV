{
 "cells": [
  {
   "cell_type": "code",
   "execution_count": 25,
   "metadata": {},
   "outputs": [],
   "source": [
    "import numpy as np\n",
    "import cv2\n",
    "import matplotlib.pyplot as plt"
   ]
  },
  {
   "cell_type": "code",
   "execution_count": 26,
   "metadata": {},
   "outputs": [],
   "source": [
    "# read picture as GRAYSCALE\n",
    "img=cv2.imread('lena.bmp', cv2.IMREAD_GRAYSCALE)"
   ]
  },
  {
   "cell_type": "code",
   "execution_count": 27,
   "metadata": {},
   "outputs": [],
   "source": [
    "# binary image (white->1 black->0)\n",
    "def binarize(image):\n",
    "    answer = np.zeros(image.shape, dtype=np.uint8)\n",
    "    for i in range(image.shape[0]):\n",
    "        for j in range(image.shape[1]):\n",
    "            if image[i][j]>127:\n",
    "                answer[i][j] = 1\n",
    "    return answer"
   ]
  },
  {
   "cell_type": "code",
   "execution_count": 28,
   "metadata": {},
   "outputs": [],
   "source": [
    "# ture binary image to whith-black image\n",
    "def binary2WB(binary_image):\n",
    "    WB_image = np.zeros(binary_image.shape,dtype = np.uint8)\n",
    "    \n",
    "    for i in range(binary_image.shape[0]):\n",
    "        for j in range(binary_image.shape[1]):\n",
    "            if binary_image[i][j]==1:\n",
    "                WB_image[i][j] = 255\n",
    "    \n",
    "    return WB_image"
   ]
  },
  {
   "cell_type": "code",
   "execution_count": 29,
   "metadata": {},
   "outputs": [],
   "source": [
    "# down sampleing(512*512 -> 64*64)\n",
    "def down_sample(binary_image):\n",
    "    answer = np.zeros((64,64), dtype=np.uint8)\n",
    "    for i in range(64):\n",
    "        for j in range(64):\n",
    "            if binary_image[i*8][j*8]==1:\n",
    "                answer[i][j] = 1\n",
    "                \n",
    "    return answer"
   ]
  },
  {
   "cell_type": "code",
   "execution_count": 30,
   "metadata": {},
   "outputs": [],
   "source": [
    "# decide the corner type\n",
    "def Yokoi_corner_type(b,c,d,e):\n",
    "    if b==c and (d!=b or e!=b):\n",
    "        return 'q'\n",
    "    elif b==c and d==b and e==b:\n",
    "        return 'r'\n",
    "    elif b!=c:\n",
    "        return 's'\n",
    "    else:\n",
    "        print(\"error! not a corner type!\")"
   ]
  },
  {
   "cell_type": "code",
   "execution_count": 31,
   "metadata": {},
   "outputs": [],
   "source": [
    "# decide the Yokoi number\n",
    "def Yokoi_number(sub_image):\n",
    "    dictionary = {'q': 0, 'r': 0, 's': 0}\n",
    "    \n",
    "    # top_right\n",
    "    dictionary[Yokoi_corner_type(sub_image[1][1],sub_image[1][2],sub_image[0][2],sub_image[0][1])]+=1\n",
    "    # top_left\n",
    "    dictionary[Yokoi_corner_type(sub_image[1][1],sub_image[0][1],sub_image[0][0],sub_image[1][0])]+=1\n",
    "    # buttom_left\n",
    "    dictionary[Yokoi_corner_type(sub_image[1][1],sub_image[1][0],sub_image[2][0],sub_image[2][1])]+=1\n",
    "    # buttom_right\n",
    "    dictionary[Yokoi_corner_type(sub_image[1][1],sub_image[2][1],sub_image[2][2],sub_image[1][2])]+=1\n",
    "    \n",
    "    if dictionary['s'] == 4:\n",
    "        return 0\n",
    "    elif dictionary['q'] == 1:\n",
    "        return 1\n",
    "    elif dictionary['q'] == 2:\n",
    "        return 2\n",
    "    elif dictionary['q'] == 3:\n",
    "        return 3\n",
    "    elif dictionary['q'] == 4:\n",
    "        return 4\n",
    "    elif dictionary['r'] == 4:\n",
    "        return 5\n",
    "    else:\n",
    "        print(\"error! not a yokoi number!\")\n",
    "        "
   ]
  },
  {
   "cell_type": "code",
   "execution_count": 32,
   "metadata": {},
   "outputs": [],
   "source": [
    "def Yokoi(binary_image):\n",
    "    \n",
    "    result_shape_0 = binary_image.shape[0]\n",
    "    result_shape_1 = binary_image.shape[1]\n",
    "    \n",
    "    zero_padding_binary_image = np.zeros((result_shape_0 + 2,result_shape_1 + 2),dtype=int)\n",
    "    zero_padding_binary_image[1:result_shape_0 + 1,1:result_shape_1 + 1] = binary_image[0:result_shape_0][0:result_shape_0]\n",
    "    \n",
    "    return_matrix = np.zeros((result_shape_0,result_shape_1),dtype=int)\n",
    "    return_matrix.fill(-1)\n",
    "    \n",
    "    for i in range(1,result_shape_0 + 1):\n",
    "        for j in range(1,result_shape_1 + 1):\n",
    "            if zero_padding_binary_image[i][j] == 1:\n",
    "                return_matrix[i-1][j-1] =  Yokoi_number(zero_padding_binary_image[i-1:i+2,j-1:j+2])\n",
    "    \n",
    "    return return_matrix"
   ]
  },
  {
   "cell_type": "code",
   "execution_count": 33,
   "metadata": {},
   "outputs": [],
   "source": [
    "# q -> 0   not interesting pixel\n",
    "# p -> 1   target pixel\n",
    "def Pair_operation(binary_image,yokoi_matrix):\n",
    "    checking_list = [[0,1],[-1,0],[0,-1],[1,0]]\n",
    "    \n",
    "    padding_yokoi = np.ones((binary_image.shape[0]+2,binary_image.shape[1]+2),dtype=int)\n",
    "    padding_yokoi = -1*padding_yokoi\n",
    "    padding_yokoi[1:padding_yokoi.shape[0]-1,1:padding_yokoi.shape[1]-1] = yokoi_matrix[0:binary_image.shape[0],0:binary_image.shape[1]]\n",
    "    \n",
    "    \n",
    "    result = np.zeros(binary_image.shape,dtype=np.uint8)\n",
    "    for i in range(1,padding_yokoi.shape[0]-1):\n",
    "        for j in range(1,padding_yokoi.shape[1]-1):\n",
    "            if binary_image[i-1][j-1]==1 and padding_yokoi[i][j]==1:\n",
    "                for k in range(4):\n",
    "                    check_point_i = i + checking_list[k][0]\n",
    "                    check_point_j = j + checking_list[k][1]\n",
    "                    \n",
    "                    if padding_yokoi[check_point_i][check_point_j]==1:\n",
    "                        result[i-1][j-1] = 1\n",
    "                        break\n",
    "                        \n",
    "    return result"
   ]
  },
  {
   "cell_type": "code",
   "execution_count": 34,
   "metadata": {},
   "outputs": [],
   "source": [
    "def Connected_Shrink_Operator_with_Pair(pair_image,binary_image):\n",
    "    result = np.zeros(binary_image.shape,dtype = int)\n",
    "    \n",
    "    zero_padding_binary_image = np.zeros((binary_image.shape[0] + 2,binary_image.shape[1] + 2),dtype='int')\n",
    "    zero_padding_binary_image[1:binary_image.shape[0] + 1,1:binary_image.shape[1] + 1] = binary_image[0:binary_image.shape[0],0:binary_image.shape[1]]\n",
    "    \n",
    "    for i in range(1,binary_image.shape[0] + 1):\n",
    "        for j in range(1,binary_image.shape[1] + 1):\n",
    "            # it is white pixel\n",
    "            if zero_padding_binary_image[i][j] == 1:\n",
    "                yokoi_result_i_j =  Yokoi_number(zero_padding_binary_image[i-1:i+2,j-1:j+2])\n",
    "                if pair_image[i-1][j-1] == 1 and yokoi_result_i_j == 1:\n",
    "                    zero_padding_binary_image[i][j] = 0\n",
    "    \n",
    "    return  zero_padding_binary_image[1:binary_image.shape[0]+1,1:binary_image.shape[1]+1]"
   ]
  },
  {
   "cell_type": "code",
   "execution_count": 35,
   "metadata": {},
   "outputs": [],
   "source": [
    "def Thining(binary_image):\n",
    "\n",
    "    yokoi_matrix = Yokoi(binary_image)    \n",
    "    pair_image = Pair_operation(binary_image,yokoi_matrix)\n",
    "    thining = Connected_Shrink_Operator_with_Pair(pair_image,binary_image)\n",
    "    \n",
    "    return thining"
   ]
  },
  {
   "cell_type": "code",
   "execution_count": 36,
   "metadata": {},
   "outputs": [
    {
     "data": {
      "text/plain": [
       "True"
      ]
     },
     "execution_count": 36,
     "metadata": {},
     "output_type": "execute_result"
    }
   ],
   "source": [
    "binary_image = binarize(img)\n",
    "sampled_binary_image = down_sample(binary_image)\n",
    "\n",
    "\n",
    "thining = Thining(sampled_binary_image)\n",
    "for i in range(6):\n",
    "    thining = Thining(thining)\n",
    "    \n",
    "result = binary2WB(thining)\n",
    "cv2.imwrite('HW7.bmp', result)\n",
    "\n",
    "# draw a bigger one to check the answer\n",
    "result_enlarge = np.zeros((result.shape[0]*8,result.shape[1]*8),dtype=np.uint8)\n",
    "\n",
    "for i in range(result.shape[0]):\n",
    "    for j in range(result.shape[1]):\n",
    "        if result[i][j]==255:\n",
    "            result_enlarge[i*8:i*8+8,j*8:j*8+8] = 255\n",
    "\n",
    "cv2.imwrite('HW7_enlarge.bmp', result_enlarge)\n"
   ]
  }
 ],
 "metadata": {
  "kernelspec": {
   "display_name": "Python 3",
   "language": "python",
   "name": "python3"
  },
  "language_info": {
   "codemirror_mode": {
    "name": "ipython",
    "version": 3
   },
   "file_extension": ".py",
   "mimetype": "text/x-python",
   "name": "python",
   "nbconvert_exporter": "python",
   "pygments_lexer": "ipython3",
   "version": "3.7.5"
  }
 },
 "nbformat": 4,
 "nbformat_minor": 2
}
