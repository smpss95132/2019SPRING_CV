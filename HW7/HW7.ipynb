{
 "cells": [
  {
   "cell_type": "code",
   "execution_count": 144,
   "metadata": {},
   "outputs": [],
   "source": [
    "import numpy as np\n",
    "import cv2\n",
    "import matplotlib.pyplot as plt"
   ]
  },
  {
   "cell_type": "code",
   "execution_count": 145,
   "metadata": {},
   "outputs": [],
   "source": [
    "# read picture as GRAYSCALE\n",
    "img=cv2.imread('lena.bmp', cv2.IMREAD_GRAYSCALE)"
   ]
  },
  {
   "cell_type": "code",
   "execution_count": 146,
   "metadata": {},
   "outputs": [],
   "source": [
    "# decide the corner type\n",
    "def Yokoi_corner_type(b,c,d,e):\n",
    "    if b==c and (d!=b or e!=b):\n",
    "        return 'q'\n",
    "    elif b==c and d==b and e==b:\n",
    "        return 'r'\n",
    "    elif b!=c:\n",
    "        return 's'\n",
    "    else:\n",
    "        print(\"error! not a corner type!\")"
   ]
  },
  {
   "cell_type": "code",
   "execution_count": 147,
   "metadata": {},
   "outputs": [],
   "source": [
    "# decide the Yokoi number\n",
    "def Yokoi_number(sub_image):\n",
    "    dictionary = {'q': 0, 'r': 0, 's': 0}\n",
    "    \n",
    "    # top_right\n",
    "    dictionary[Yokoi_corner_type(sub_image[1][1],sub_image[1][2],sub_image[0][2],sub_image[0][1])]+=1\n",
    "    # top_left\n",
    "    dictionary[Yokoi_corner_type(sub_image[1][1],sub_image[0][1],sub_image[0][0],sub_image[1][0])]+=1\n",
    "    # buttom_left\n",
    "    dictionary[Yokoi_corner_type(sub_image[1][1],sub_image[1][0],sub_image[2][0],sub_image[2][1])]+=1\n",
    "    # buttom_right\n",
    "    dictionary[Yokoi_corner_type(sub_image[1][1],sub_image[2][1],sub_image[2][2],sub_image[1][2])]+=1\n",
    "    \n",
    "    if dictionary['s'] == 4:\n",
    "        return 0\n",
    "    elif dictionary['q'] == 1:\n",
    "        return 1\n",
    "    elif dictionary['q'] == 2:\n",
    "        return 2\n",
    "    elif dictionary['q'] == 3:\n",
    "        return 3\n",
    "    elif dictionary['q'] == 4:\n",
    "        return 4\n",
    "    elif dictionary['r'] == 4:\n",
    "        return 5\n",
    "    else:\n",
    "        print(\"error! not a yokoi number!\")\n",
    "        "
   ]
  },
  {
   "cell_type": "code",
   "execution_count": 148,
   "metadata": {},
   "outputs": [],
   "source": [
    "# binary image (white->1 black->0)\n",
    "def binarize(image):\n",
    "    answer = np.zeros(image.shape, dtype=np.uint8)\n",
    "    for i in range(image.shape[0]):\n",
    "        for j in range(image.shape[1]):\n",
    "            if image[i][j]>127:\n",
    "                answer[i][j] = 1\n",
    "    return answer"
   ]
  },
  {
   "cell_type": "code",
   "execution_count": 149,
   "metadata": {},
   "outputs": [],
   "source": [
    "# down sampleing(512*512 -> 64*64)\n",
    "def down_sample(binary_image):\n",
    "    answer = np.zeros((64,64), dtype=np.uint8)\n",
    "    for i in range(64):\n",
    "        for j in range(64):\n",
    "            if binary_image[i*8][j*8]==1:\n",
    "                answer[i][j] = 1\n",
    "                \n",
    "    return answer"
   ]
  },
  {
   "cell_type": "code",
   "execution_count": 150,
   "metadata": {},
   "outputs": [],
   "source": [
    "# Interior_Border_Operator\n",
    "# return: Border -> 1  ,Interior -> 0 \n",
    "def Interior_Border_Operator(binary_image):\n",
    "    position_list = [[0,1],[-1,0],[0,-1],[1,0]]\n",
    "    # c->0  b->1 \n",
    "    result = np.zeros(binary_image.shape, dtype = \"int\")\n",
    "    \n",
    "    # add outer frame to  the binary image\n",
    "    binary_image_frame = np.zeros((binary_image.shape[0] + 2,binary_image.shape[1] + 2) , dtype = \"int\")\n",
    "    binary_image_frame[1:binary_image_frame.shape[0]-1,1:binary_image_frame.shape[1]-1] = binary_image[0:binary_image.shape[0],0:binary_image.shape[1]]\n",
    "     \n",
    "    for i in range(1,binary_image_frame.shape[0]-1):\n",
    "        for j in range(1,binary_image_frame.shape[1]-1):\n",
    "            # 4-connected => 4 chance to detect\n",
    "            if binary_image_frame[i][j] == 1:\n",
    "                for k in range(4):\n",
    "                    check_position_i = i + position_list[k][0]\n",
    "                    check_opsition_j = j + position_list[k][1]\n",
    "                \n",
    "                    # border\n",
    "                    if binary_image_frame[check_position_i][check_opsition_j]==0:\n",
    "                        result[i-1][j-1] = 1\n",
    "                        break\n",
    "                    \n",
    "    return result\n",
    "                              "
   ]
  },
  {
   "cell_type": "code",
   "execution_count": 151,
   "metadata": {},
   "outputs": [],
   "source": [
    "# pair_relationship_operator\n",
    "# return: pixels which are border and has an interior neighbor will be labeled as 1 else 0\n",
    "def pair_relationship_operator(I_B_image,binary_image):\n",
    "    position_list = [[0,1],[-1,0],[0,-1],[1,0]]\n",
    "    result = np.zeros(binary_image.shape,dtype = 'int')\n",
    "    \n",
    "    framed_I_B_image = np.ones((I_B_image.shape[0]+2,I_B_image.shape[1]+2),dtype='int')\n",
    "    framed_I_B_image[1:framed_I_B_image.shape[0]-1,1:framed_I_B_image.shape[1]-1] = I_B_image[0:I_B_image.shape[0],0:I_B_image.shape[1]]\n",
    "    framed_binary_image = np.zeros((binary_image.shape[0]+2,binary_image.shape[1]+2),dtype='int')\n",
    "    framed_binary_image[1:framed_binary_image.shape[0]-1,1:framed_binary_image.shape[1]-1] = binary_image[0:binary_image.shape[0],0:binary_image.shape[1]]\n",
    "    \n",
    "    for i in range(1,framed_binary_image.shape[0]-1):\n",
    "        for j in range(1,framed_binary_image.shape[1]-1):\n",
    "            # if border => check it\n",
    "            if framed_I_B_image[i][j]==1:\n",
    "                for k in range(4):\n",
    "                    check_point_i = i + position_list[k][0]\n",
    "                    check_point_j = j + position_list[k][1]\n",
    "                    \n",
    "                    if framed_I_B_image[check_point_i][check_point_j]==0 and framed_binary_image[check_point_i][check_point_j]==1:\n",
    "                        result[i-1][j-1]=1\n",
    "    \n",
    "    return result\n",
    "    \n",
    "    "
   ]
  },
  {
   "cell_type": "code",
   "execution_count": 152,
   "metadata": {},
   "outputs": [],
   "source": [
    "# marked_pixel_connected_shrink_operator\n",
    "# return thining result(white->1 black->0)\n",
    "def marked_pixel_connected_shrink_operator(pair_image,binary_image):\n",
    "    result_shape_0 = binary_image.shape[0]\n",
    "    result_shape_1 = binary_image.shape[1]\n",
    "    \n",
    "    zero_padding_binary_image = np.zeros((result_shape_0 + 2,result_shape_1 + 2),dtype='int')\n",
    "    zero_padding_binary_image[1:result_shape_0 + 1,1:result_shape_1 + 1] = binary_image[0:result_shape_0][0:result_shape_1]\n",
    "    \n",
    "    for i in range(1,result_shape_0 + 1):\n",
    "        for j in range(1,result_shape_1 + 1):\n",
    "            # it is white pixel\n",
    "            if zero_padding_binary_image[i][j] == 1:\n",
    "                yokoi_result_i_j =  Yokoi_number(zero_padding_binary_image[i-1:i+2,j-1:j+2])\n",
    "                if pair_image[i-1][j-1] == 1 and yokoi_result_i_j == 1:\n",
    "                    zero_padding_binary_image[i][j] = 0\n",
    "    \n",
    "    return  zero_padding_binary_image[1:result_shape_0+1,1:result_shape_1+1]\n",
    "    \n",
    "    "
   ]
  },
  {
   "cell_type": "code",
   "execution_count": 153,
   "metadata": {},
   "outputs": [],
   "source": [
    "# input: binary image\n",
    "# ouput: binary image after thining\n",
    "def thining(binary_image):\n",
    "    #result = np.zeros(binary_image.shape , dtype=np.uint8)\n",
    "    #result[0:binary_image.shape[0],0:binary_image.shape[1]] = binary_image\n",
    "    \n",
    "    interior_border_image = Interior_Border_Operator(binary_image)\n",
    "    paired_image = pair_relationship_operator(interior_border_image,binary_image)\n",
    "    thining_image = marked_pixel_connected_shrink_operator(paired_image,binary_image)\n",
    "    print(thining_image.shape)\n",
    "                \n",
    "    return thining_image\n",
    "    \n",
    "    "
   ]
  },
  {
   "cell_type": "code",
   "execution_count": 154,
   "metadata": {},
   "outputs": [
    {
     "name": "stdout",
     "output_type": "stream",
     "text": [
      "(64, 64)\n",
      "(64, 64)\n",
      "(64, 64)\n",
      "(64, 64)\n",
      "(64, 64)\n",
      "(64, 64)\n",
      "(64, 64)\n",
      "(64, 64)\n",
      "(64, 64)\n"
     ]
    }
   ],
   "source": [
    "binary_image = binarize(img)\n",
    "binary_sample_image = down_sample(binary_image)\n",
    "\n",
    "result = thining(binary_sample_image)\n",
    "\n",
    "for i in range(8):\n",
    "    result = thining(result)\n",
    "\n",
    "\n",
    "\n",
    "\n",
    "\n",
    "temp_image = np.zeros(result.shape,dtype = np.uint8)\n",
    "for i in range(result.shape[0]):\n",
    "    for j in range(result.shape[1]):\n",
    "        if result[i][j]==1:\n",
    "            temp_image[i][j]=255 \n",
    "            \n",
    "cv2.imwrite('answer1_5.bmp', temp_image)\n",
    "temp_image = cv2.resize(temp_image, (512, 512))  \n",
    "cv2.imshow('My Image',temp_image)\n",
    "cv2.waitKey(0)\n",
    "cv2.destroyAllWindows()"
   ]
  },
  {
   "cell_type": "code",
   "execution_count": 155,
   "metadata": {},
   "outputs": [
    {
     "data": {
      "text/plain": [
       "True"
      ]
     },
     "execution_count": 155,
     "metadata": {},
     "output_type": "execute_result"
    }
   ],
   "source": [
    "#down_sample_image = down_sample(binarize(img))\n",
    "try_image = np.array([[0,1,1,1,0],[0,1,1,1,0],[0,1,1,1,0],[0,0,0,0,0],[0,1,1,0,0]])\n",
    "\n",
    "\n",
    "\n",
    "\n",
    "\n",
    "binary_image = binarize(img)\n",
    "binary_image = down_sample(binary_image)\n",
    "\n",
    "temp_image = np.zeros(binary_image.shape,dtype = np.uint8)\n",
    "for i in range(binary_image.shape[0]):\n",
    "    for j in range(binary_image.shape[1]):\n",
    "        if binary_image[i][j]==1:\n",
    "            temp_image[i][j]=255 \n",
    "\n",
    "cv2.imwrite('answer1_1.bmp', temp_image)\n",
    "\n",
    "\n",
    "I_B_image = Interior_Border_Operator(binary_image)\n",
    "pair_image = pair_relationship_operator(I_B_image,binary_image)\n",
    "thining_image = marked_pixel_connected_shrink_operator(pair_image,binary_image)\n",
    "\n",
    "#print(I_B_image )\n",
    "#print(pair_image)\n",
    "#print(thining_image)\n",
    "\n",
    "temp_image = np.zeros(binary_image.shape,dtype = np.uint8)\n",
    "for i in range(binary_image.shape[0]):\n",
    "    for j in range(binary_image.shape[1]):\n",
    "        if I_B_image[i][j]==1:\n",
    "            temp_image[i][j]=255 \n",
    "\n",
    "final_image = np.zeros(binary_image.shape,dtype = np.uint8)\n",
    "for i in range(binary_image.shape[0]):\n",
    "    for j in range(binary_image.shape[1]):\n",
    "        if thining_image[i][j]==1:\n",
    "            final_image[i][j]=255 \n",
    "            \n",
    "cv2.imwrite('answer1_2.bmp', temp_image)\n",
    "\n",
    "cv2.imwrite('answer1_3.bmp', final_image)"
   ]
  }
 ],
 "metadata": {
  "kernelspec": {
   "display_name": "Python 3",
   "language": "python",
   "name": "python3"
  },
  "language_info": {
   "codemirror_mode": {
    "name": "ipython",
    "version": 3
   },
   "file_extension": ".py",
   "mimetype": "text/x-python",
   "name": "python",
   "nbconvert_exporter": "python",
   "pygments_lexer": "ipython3",
   "version": "3.7.3"
  }
 },
 "nbformat": 4,
 "nbformat_minor": 2
}
